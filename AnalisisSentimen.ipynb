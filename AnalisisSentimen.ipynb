{
  "nbformat": 4,
  "nbformat_minor": 0,
  "metadata": {
    "colab": {
      "name": " AnalisisSentimen.ipynb",
      "provenance": [],
      "authorship_tag": "ABX9TyMRephl81aKU4wYpv2tON44",
      "include_colab_link": true
    },
    "kernelspec": {
      "name": "python3",
      "display_name": "Python 3"
    },
    "language_info": {
      "name": "python"
    }
  },
  "cells": [
    {
      "cell_type": "markdown",
      "metadata": {
        "id": "view-in-github",
        "colab_type": "text"
      },
      "source": [
        "<a href=\"https://colab.research.google.com/github/ayyash-ayyub/machine-learning/blob/main/AnalisisSentimen.ipynb\" target=\"_parent\"><img src=\"https://colab.research.google.com/assets/colab-badge.svg\" alt=\"Open In Colab\"/></a>"
      ]
    },
    {
      "cell_type": "code",
      "metadata": {
        "id": "PBW4QHURxIl5",
        "colab": {
          "base_uri": "https://localhost:8080/"
        },
        "outputId": "af35a5fd-044a-409c-90c6-cdaf1c31e227"
      },
      "source": [
        "! install tweepy\n"
      ],
      "execution_count": 4,
      "outputs": [
        {
          "output_type": "stream",
          "text": [
            "install: missing destination file operand after 'tweepy'\n",
            "Try 'install --help' for more information.\n"
          ],
          "name": "stdout"
        }
      ]
    },
    {
      "cell_type": "code",
      "metadata": {
        "id": "8Fb_5Lffxaf_",
        "colab": {
          "base_uri": "https://localhost:8080/"
        },
        "outputId": "ed0b7f9e-3ffd-43ae-caf2-ddd647b1273d"
      },
      "source": [
        "!pip install textblob"
      ],
      "execution_count": 5,
      "outputs": [
        {
          "output_type": "stream",
          "text": [
            "Requirement already satisfied: textblob in /usr/local/lib/python3.7/dist-packages (0.15.3)\n",
            "Requirement already satisfied: nltk>=3.1 in /usr/local/lib/python3.7/dist-packages (from textblob) (3.2.5)\n",
            "Requirement already satisfied: six in /usr/local/lib/python3.7/dist-packages (from nltk>=3.1->textblob) (1.15.0)\n"
          ],
          "name": "stdout"
        }
      ]
    },
    {
      "cell_type": "code",
      "metadata": {
        "id": "hZg2t4jf8HIL"
      },
      "source": [
        "import tweepy # to gather tweeter data\n",
        "from textblob import TextBlob\n",
        "import pandas as pd\n",
        "import matplotlib.pyplot as plt\n",
        "import re\n",
        "from wordcloud import WordCloud\n",
        "plt.style.use('fivethirtyeight')"
      ],
      "execution_count": 7,
      "outputs": []
    },
    {
      "cell_type": "code",
      "metadata": {
        "id": "6HD7vNNh8La-"
      },
      "source": [
        "# Twitter Api  Credentials\n",
        "APIkey= \"qBbo2B5vQxnDBtwqNTZ3C57UA\"\n",
        "APISecreatKey= \"tbveShl1CGJPM706ybeIPIWGNZWBaXtsyAi8wZ6VgmiWR9AOGB\"\n",
        "accessToken= \"1080866487819272192-VhW4s2WGskT3tg65eVeC6BdgRxMHpN\"\n",
        "accessTokenSecreat= \"8EPbYCHl3aXculBl4SxfpCIsCsfEJxyoMIrZv6icU0oUJ\""
      ],
      "execution_count": 8,
      "outputs": []
    },
    {
      "cell_type": "code",
      "metadata": {
        "id": "zUaJLr4N8NhY"
      },
      "source": [
        "# create the authentication object\n",
        "authenticate = tweepy.OAuthHandler(APIkey,APISecreatKey)\n",
        "authenticate.set_access_token(accessToken,accessTokenSecreat)\n",
        "api= tweepy.API(authenticate)"
      ],
      "execution_count": 16,
      "outputs": []
    },
    {
      "cell_type": "code",
      "metadata": {
        "colab": {
          "base_uri": "https://localhost:8080/"
        },
        "id": "Ho4bSL7P8079",
        "outputId": "c4f9902f-e377-449d-f0b0-91c0e6bbed32"
      },
      "source": [
        "posts= api.user_timeline(screen_name='Israel',count=100,lang=\"en\",tweet_mode='extended')\n",
        "i=1\n",
        "for tweet in posts[:49]:  # just want to see the top 10 from 100\n",
        "    print(str(i) + ') ' + tweet.full_text + '\\n')\n",
        "    i= i+1"
      ],
      "execution_count": 35,
      "outputs": [
        {
          "output_type": "stream",
          "text": [
            "1) Thank you so much to all of the countries who continue to support our 🇮🇱 right to protect our citizens from terror.                                                         🇨🇴🇬🇹🇭🇳🇵🇾🇺🇾🇺🇸🇧🇷🇦🇱🇦🇺🇦🇹🇧🇦🇧🇬🇨🇦🇨🇾🇨🇿🇬🇪🇩🇪🇭🇺🇮🇹🇱🇹🇲🇩🇳🇱🇲🇰🇸🇮🇺🇦\n",
            "\n",
            "2) @cowmehdi can anyone sleep with hundreds of rockets flying over their head?\n",
            "\n",
            "3) These aren’t fireworks over Ashdod. \n",
            "\n",
            "They’re rockets.                               https://t.co/Bcclhn33Qq\n",
            "\n",
            "4) ⚠️⚠️Happening right now: rocket alarms sounding all over Israel \n",
            "\n",
            "THIS IS NOT NORMAL. \n",
            "\n",
            "#IsraelUnderAttack https://t.co/8AbypeTLqE\n",
            "\n",
            "5) Shabbat is traditionally a day of rest, but for millions of Israelis there's no rest under rocket fire. \n",
            "\n",
            "This family had to run for rocket fire in middle of their Shabbat meal. \n",
            "\n",
            "RT this so people REALLY know what's going on in Israel. \n",
            "\n",
            "#IsraelUnderAttack https://t.co/DC6weFCb8f\n",
            "\n",
            "6) RT @missmayim: https://t.co/FKD6A3cYR2\n",
            "\n",
            "7) The Shabbat has been far from quiet, with hundreds of rockets fired from #Gaza, sending millions of Israelis to bomb shelters.\n",
            "\n",
            "An Israeli man was killed today in one of these attacks. Our thoughts are with his family as we pray for peeaceful times.🇮🇱\n",
            "https://t.co/SJMD6QupXH\n",
            "\n",
            "8) RT @GonenYonatan: Ali from Iraq: \"I declare my full solidarity with Israel in its war against terror. May God protect Israel\" https://t.co/…\n",
            "\n",
            "9) Shabbat Shalom from Israel. \n",
            "\n",
            "Praying for better times. \n",
            "\n",
            "#IsraelUnderAttack https://t.co/KEBO1b5m1V\n",
            "\n",
            "10) @Pujamishra__ Thank you!\n",
            "\n",
            "11) RT @AlonUshpiz: Taking part in a @twitterspaces event on the @IsraelMFA channel, to discuss the current situation and take some questions f…\n",
            "\n",
            "12) RT @GonenYonatan: BEAUTIFUL: Jews and Arabs in Israel came together to hand out flowers and hope to passers-by, Arabs and Jews 🌹 \n",
            "(Photo: T…\n",
            "\n",
            "13) @Perth_Today Thank you ❤️\n",
            "\n",
            "14) @Zalman5K @IsraelinCol @IsraelArgentina @IsraelinSpanish @KanRadio @ChrisMCantor ❤️\n",
            "\n",
            "15) #OnThisDay in 1948, the State of Israel was established, fulfilling the dream of the Jewish people &amp; our ancestors to return to our historic homeland. \n",
            "\n",
            "Now more than ever, just a reminder that we’re here to stay 🇮🇱. \n",
            "\n",
            "📸Beno Rothenberg, Meitar Collection, @NLIsrael https://t.co/NoQIahckng\n",
            "\n",
            "16) It’s 3:25am here in Israel but hundreds of thousands of Israelis are awake. \n",
            "\n",
            "It’s impossible to sleep when you receive red alert after red alert warning you to run for shelter from Hamas rocket fire. \n",
            "\n",
            "#IsraelUnderAttack https://t.co/iPbYIDhguS\n",
            "\n",
            "17) (2/2) Diversity is a sacred part of what Israel is all about. Israel is committed to safeguarding the security of ALL citizens to fight Intolerance and to restore peaceful coexistence. 🇮🇱\n",
            "\n",
            "18) (1/2) While the events unfolding in #Gaza, are putting the lives of ALL Israelis at risk, the last few days have seen growing unrest across the country with incidents of violence between different groups in Israeli society. https://t.co/7YjDW2kFcS\n",
            "\n",
            "19) An honor to host over 1,600 people on our @TwitterSpaces, to hear the experiences of Israelis under Hamas fire, ask questions, and express their support. Thank you! https://t.co/OKRCrgx193\n",
            "\n",
            "20) Join our @TwitterSpaces to hear from Israelis living under Hamas rocket fire how they're coping in such challenging times.\n",
            "\n",
            "#Israelunderattack\n",
            "\n",
            "https://t.co/PYSwXEU0TM\n",
            "\n",
            "21) @Abhinav58484470 @PrudentHermit @TwitterSpaces It will be in English.\n",
            "\n",
            "22) In ten minutes (20:00pm Israel time) we’ll be hosting a @TwitterSpaces with Israelis who are living under rocket fire.  We hope you’ll join us. #Israelunderattack\n",
            "\n",
            "23) This morning, 17,000 Muslims celebrated the end of Ramadan #EidAlFitr on the Temple Mount.\n",
            "\n",
            "During these challenging times, now more than ever we pray for peace in Jerusalem and elsewhere. \n",
            "\n",
            "#Eidmubarak https://t.co/pp0MKR8nn6\n",
            "\n",
            "24) Here's what it's like for young Israelis living under rocket fire. \n",
            "\n",
            "@YouthforIL\n",
            "\n",
            "#IsraelUnderAttack https://t.co/Tcp0t7erOn\n",
            "\n",
            "25) 💔 https://t.co/NWLgVFVCRf\n",
            "\n",
            "26) No words needed. \n",
            "\n",
            "#IsraelUnderAttack https://t.co/zqpHJdUdkr\n",
            "\n",
            "27) Good morning from Israel. \n",
            "\n",
            "We want to start our day by sending our love and support to the hundreds of thousands of Israelis who spent a restless night in bomb shelters. \n",
            "\n",
            "אוהבים אתכם ♥️. \n",
            "#IsraelUnderAttack https://t.co/pf4gMvQy4M\n",
            "\n",
            "28) It's 1:16 AM in Israel.\n",
            "\n",
            "Multiple sirens just sounded across wide areas in central Israel, warning of incoming rockets, sending millions of Israelis to bomb shelters.\n",
            "\n",
            "29) @janboehm Dankeschön\n",
            "Thank You\n",
            "תודה רבה\n",
            "\n",
            "30) We ♥️ you @GalGadot. https://t.co/iL3NlskRja\n",
            "\n",
            "31) 10 minutes to go. https://t.co/HifKeLflVW\n",
            "\n",
            "32) As rockets bombard communities across Israel and thousands find themselves in bomb shelters, hear from Israelis living under rocket fire in our @Clubhouse session today at 17:00.\n",
            "\n",
            "We hope to see you there. \n",
            "\n",
            "https://t.co/ezX6fRTOlJ \n",
            "\n",
            "📸Givatayim Municipality\n",
            "\n",
            "#IsraelUnderAttack https://t.co/0vZDp1mQOv\n",
            "\n",
            "33) @DovForman @skjask We love you and Lily. Sending you a big hug from Israel.\n",
            "\n",
            "34) RT @IsraelMFA: Join the LIVE @TwitterSpaces to hear from Israelis living under Hamas rocket fire. #IsraelUnderAttack \n",
            "\n",
            "https://t.co/fASugtI…\n",
            "\n",
            "35) We have been here for 3,000 years and we're here to stay.\n",
            "\n",
            "Terrorists trying to plunge the region into violence and darkness will never prevail.\n",
            "\n",
            "#IsraelUnderAttack https://t.co/tTf9R3mgTV\n",
            "\n",
            "36) We ♥️ this message being circulated in chats across Israel. Israelis are asking one another to:\n",
            "\n",
            "▶️ Check in on their elderly neighbors &amp; make sure they have access to shelters\n",
            "▶️ Leave their phone number in case of emergency\n",
            "▶️ Leave something sweet to cheer up their neighbors https://t.co/rq0dyZKZ8E\n",
            "\n",
            "37) @noatishby מלכה ♥️.\n",
            "\n",
            "38) It's been a difficult night for us, exhausted after spending hours in bomb shelters, but waking up to so many messages of support from you guys helps. \n",
            "\n",
            "Thank you ♥️.\n",
            "\n",
            "39) @USAmongISR Sending you so much love. We're in this together.\n",
            "\n",
            "40) For our Israeli followers, please share your own experiences living under rocket fire in the comments⬇️ and tell us how you've been coping during these difficult times. \n",
            "\n",
            "We love you guys.\n",
            "\n",
            "41) Sending a big hug to all of the Israelis running to bomb shelters right now. \n",
            "\n",
            "We are with you and will continue to protect all of our citizens. \n",
            "\n",
            "📽️ Tel Aviv under Hamas rocket fire https://t.co/5rcDInfltJ\n",
            "\n",
            "42) Happening in 10 minutes. We hope you join us. https://t.co/4LW7I2409F\n",
            "\n",
            "43) Join us on @Clubhouse at 16:00PM (Israel time), 9AM EST as we hear from the Israelis who are living under Hamas rocket fire in Southern Israel. \n",
            "\n",
            "https://t.co/sVpPvvDVvy https://t.co/JuAVBp7kaY\n",
            "\n",
            "44) 📸Photography by Naftali\n",
            "\n",
            "45) Today and everyday, we pray for peace in our capital. \n",
            "\n",
            "#JerusalemDay https://t.co/sEpAYTu9Us\n",
            "\n",
            "46) \"We can fight racism with education\"\n",
            "\n",
            "Meet Racheli, an Israeli social activist &amp; director of the \"Ethiopian Women Empower(ment)\" community. Through her work, Racheli has inspired thousands of Ethiopian women across 🇮🇱 to promote change, progress and equality on a national level. https://t.co/3inlcAOgg6\n",
            "\n",
            "47) RT @ImpactIsrael: Billions are living along coastlines with bridges, ports and seawalls, built with concrete &amp; threatening to destroy marin…\n",
            "\n",
            "48) RT @EladStr: Sapir Berman is the 1st referee from the Premier League in @Israel to come out as transgender. Watching her officiate the matc…\n",
            "\n",
            "49) If (as we say in Hebrew), this all still \"sounds like Chinese\" to you, don't worry. \n",
            "\n",
            "We &amp; our friends at the @HebAcademy are here to help you brush up on your Hebrew. \n",
            "\n",
            "But if you speak French or Finnish, this might still \"sound like Hebrew\" to you 😆. \n",
            "\n",
            "הבנתם? https://t.co/iSr1S6N0UR\n",
            "\n"
          ],
          "name": "stdout"
        }
      ]
    },
    {
      "cell_type": "code",
      "metadata": {
        "colab": {
          "base_uri": "https://localhost:8080/",
          "height": 402
        },
        "id": "zq7ryIvW9tf7",
        "outputId": "58845356-f4f5-4cf8-dbd4-6832d5837c1b"
      },
      "source": [
        "# Create a dataframe with a column called tweets\n",
        "df= pd.DataFrame([tweet.full_text for tweet in posts],columns=['Tweets'])\n",
        "df"
      ],
      "execution_count": 36,
      "outputs": [
        {
          "output_type": "execute_result",
          "data": {
            "text/html": [
              "<div>\n",
              "<style scoped>\n",
              "    .dataframe tbody tr th:only-of-type {\n",
              "        vertical-align: middle;\n",
              "    }\n",
              "\n",
              "    .dataframe tbody tr th {\n",
              "        vertical-align: top;\n",
              "    }\n",
              "\n",
              "    .dataframe thead th {\n",
              "        text-align: right;\n",
              "    }\n",
              "</style>\n",
              "<table border=\"1\" class=\"dataframe\">\n",
              "  <thead>\n",
              "    <tr style=\"text-align: right;\">\n",
              "      <th></th>\n",
              "      <th>Tweets</th>\n",
              "    </tr>\n",
              "  </thead>\n",
              "  <tbody>\n",
              "    <tr>\n",
              "      <th>0</th>\n",
              "      <td>Thank you so much to all of the countries who ...</td>\n",
              "    </tr>\n",
              "    <tr>\n",
              "      <th>1</th>\n",
              "      <td>@cowmehdi can anyone sleep with hundreds of ro...</td>\n",
              "    </tr>\n",
              "    <tr>\n",
              "      <th>2</th>\n",
              "      <td>These aren’t fireworks over Ashdod. \\n\\nThey’r...</td>\n",
              "    </tr>\n",
              "    <tr>\n",
              "      <th>3</th>\n",
              "      <td>⚠️⚠️Happening right now: rocket alarms soundin...</td>\n",
              "    </tr>\n",
              "    <tr>\n",
              "      <th>4</th>\n",
              "      <td>Shabbat is traditionally a day of rest, but fo...</td>\n",
              "    </tr>\n",
              "    <tr>\n",
              "      <th>...</th>\n",
              "      <td>...</td>\n",
              "    </tr>\n",
              "    <tr>\n",
              "      <th>95</th>\n",
              "      <td>RT @ImpactIsrael: Israel's #Equal Rights Commi...</td>\n",
              "    </tr>\n",
              "    <tr>\n",
              "      <th>96</th>\n",
              "      <td>We stand together with our good friends in Ind...</td>\n",
              "    </tr>\n",
              "    <tr>\n",
              "      <th>97</th>\n",
              "      <td>@packsaddleman Thank you ♥️</td>\n",
              "    </tr>\n",
              "    <tr>\n",
              "      <th>98</th>\n",
              "      <td>We're reading all of these comments &amp;amp; send...</td>\n",
              "    </tr>\n",
              "    <tr>\n",
              "      <th>99</th>\n",
              "      <td>@BryannaNasck Thank you! We hope the whole wor...</td>\n",
              "    </tr>\n",
              "  </tbody>\n",
              "</table>\n",
              "<p>100 rows × 1 columns</p>\n",
              "</div>"
            ],
            "text/plain": [
              "                                               Tweets\n",
              "0   Thank you so much to all of the countries who ...\n",
              "1   @cowmehdi can anyone sleep with hundreds of ro...\n",
              "2   These aren’t fireworks over Ashdod. \\n\\nThey’r...\n",
              "3   ⚠️⚠️Happening right now: rocket alarms soundin...\n",
              "4   Shabbat is traditionally a day of rest, but fo...\n",
              "..                                                ...\n",
              "95  RT @ImpactIsrael: Israel's #Equal Rights Commi...\n",
              "96  We stand together with our good friends in Ind...\n",
              "97                        @packsaddleman Thank you ♥️\n",
              "98  We're reading all of these comments &amp; send...\n",
              "99  @BryannaNasck Thank you! We hope the whole wor...\n",
              "\n",
              "[100 rows x 1 columns]"
            ]
          },
          "metadata": {
            "tags": []
          },
          "execution_count": 36
        }
      ]
    },
    {
      "cell_type": "code",
      "metadata": {
        "id": "-Z-5qKim90y3"
      },
      "source": [
        "# make a function to clean tweets\n",
        "def cleanTxt(text):\n",
        "    text= re.sub('@[A-Za-z0-9]+','',text ) #removing mentions\n",
        "    text= re.sub(\"#\",'',text) #removing #\n",
        "    text= re.sub('RT[\\s]+','',text) # removing Retweets\n",
        "    text= re.sub('https?:\\/\\/\\S+','',text) #removing links\n",
        "    return text"
      ],
      "execution_count": 37,
      "outputs": []
    },
    {
      "cell_type": "code",
      "metadata": {
        "id": "w6lmaOhj93K6"
      },
      "source": [
        "\n",
        "df['Tweets']= df['Tweets'].apply(cleanTxt)"
      ],
      "execution_count": 38,
      "outputs": []
    },
    {
      "cell_type": "code",
      "metadata": {
        "colab": {
          "base_uri": "https://localhost:8080/",
          "height": 402
        },
        "id": "JmwrT7Nb94G1",
        "outputId": "9ed5c071-f630-4e69-c3d0-66cd47116c82"
      },
      "source": [
        "df"
      ],
      "execution_count": 39,
      "outputs": [
        {
          "output_type": "execute_result",
          "data": {
            "text/html": [
              "<div>\n",
              "<style scoped>\n",
              "    .dataframe tbody tr th:only-of-type {\n",
              "        vertical-align: middle;\n",
              "    }\n",
              "\n",
              "    .dataframe tbody tr th {\n",
              "        vertical-align: top;\n",
              "    }\n",
              "\n",
              "    .dataframe thead th {\n",
              "        text-align: right;\n",
              "    }\n",
              "</style>\n",
              "<table border=\"1\" class=\"dataframe\">\n",
              "  <thead>\n",
              "    <tr style=\"text-align: right;\">\n",
              "      <th></th>\n",
              "      <th>Tweets</th>\n",
              "    </tr>\n",
              "  </thead>\n",
              "  <tbody>\n",
              "    <tr>\n",
              "      <th>0</th>\n",
              "      <td>Thank you so much to all of the countries who ...</td>\n",
              "    </tr>\n",
              "    <tr>\n",
              "      <th>1</th>\n",
              "      <td>can anyone sleep with hundreds of rockets fly...</td>\n",
              "    </tr>\n",
              "    <tr>\n",
              "      <th>2</th>\n",
              "      <td>These aren’t fireworks over Ashdod. \\n\\nThey’r...</td>\n",
              "    </tr>\n",
              "    <tr>\n",
              "      <th>3</th>\n",
              "      <td>⚠️⚠️Happening right now: rocket alarms soundin...</td>\n",
              "    </tr>\n",
              "    <tr>\n",
              "      <th>4</th>\n",
              "      <td>Shabbat is traditionally a day of rest, but fo...</td>\n",
              "    </tr>\n",
              "    <tr>\n",
              "      <th>...</th>\n",
              "      <td>...</td>\n",
              "    </tr>\n",
              "    <tr>\n",
              "      <th>95</th>\n",
              "      <td>: Israel's Equal Rights Commission for Persons...</td>\n",
              "    </tr>\n",
              "    <tr>\n",
              "      <th>96</th>\n",
              "      <td>We stand together with our good friends in Ind...</td>\n",
              "    </tr>\n",
              "    <tr>\n",
              "      <th>97</th>\n",
              "      <td>Thank you ♥️</td>\n",
              "    </tr>\n",
              "    <tr>\n",
              "      <th>98</th>\n",
              "      <td>We're reading all of these comments &amp;amp; send...</td>\n",
              "    </tr>\n",
              "    <tr>\n",
              "      <th>99</th>\n",
              "      <td>Thank you! We hope the whole world looks like...</td>\n",
              "    </tr>\n",
              "  </tbody>\n",
              "</table>\n",
              "<p>100 rows × 1 columns</p>\n",
              "</div>"
            ],
            "text/plain": [
              "                                               Tweets\n",
              "0   Thank you so much to all of the countries who ...\n",
              "1    can anyone sleep with hundreds of rockets fly...\n",
              "2   These aren’t fireworks over Ashdod. \\n\\nThey’r...\n",
              "3   ⚠️⚠️Happening right now: rocket alarms soundin...\n",
              "4   Shabbat is traditionally a day of rest, but fo...\n",
              "..                                                ...\n",
              "95  : Israel's Equal Rights Commission for Persons...\n",
              "96  We stand together with our good friends in Ind...\n",
              "97                                       Thank you ♥️\n",
              "98  We're reading all of these comments &amp; send...\n",
              "99   Thank you! We hope the whole world looks like...\n",
              "\n",
              "[100 rows x 1 columns]"
            ]
          },
          "metadata": {
            "tags": []
          },
          "execution_count": 39
        }
      ]
    },
    {
      "cell_type": "code",
      "metadata": {
        "id": "nHPgEYAT-CFW"
      },
      "source": [
        "analysis=TextBlob(\"Israel terrorist\")"
      ],
      "execution_count": 50,
      "outputs": []
    },
    {
      "cell_type": "code",
      "metadata": {
        "colab": {
          "base_uri": "https://localhost:8080/"
        },
        "id": "je5URbVO-H8V",
        "outputId": "592ad3de-c0d5-4e63-cd72-68174d409d14"
      },
      "source": [
        "analysis.sentiment"
      ],
      "execution_count": 52,
      "outputs": [
        {
          "output_type": "execute_result",
          "data": {
            "text/plain": [
              "Sentiment(polarity=0.0, subjectivity=0.0)"
            ]
          },
          "metadata": {
            "tags": []
          },
          "execution_count": 52
        }
      ]
    },
    {
      "cell_type": "code",
      "metadata": {
        "id": "RUxD4U9w-LwW"
      },
      "source": [
        "# create a function to get the subjectivity of all the tweets\n",
        "def getSubjectivity(text):\n",
        "    return TextBlob(text).sentiment.subjectivity\n",
        "\n",
        "# create a function to get the Polarity of all the tweets\n",
        "def getPolarity(text):\n",
        "    return TextBlob(text).sentiment.polarity\n",
        "\n",
        "# create 2 columns 'Subjectivity' and 'Polarity'\n",
        "df['Subjectivity']= df['Tweets'].apply(getSubjectivity)\n",
        "df['Polarity']= df['Tweets'].apply(getPolarity)"
      ],
      "execution_count": 53,
      "outputs": []
    },
    {
      "cell_type": "code",
      "metadata": {
        "colab": {
          "base_uri": "https://localhost:8080/",
          "height": 402
        },
        "id": "jsMazv-c-PQo",
        "outputId": "2d0c8cfc-e80b-4317-d7c4-db225be498f3"
      },
      "source": [
        "df"
      ],
      "execution_count": 54,
      "outputs": [
        {
          "output_type": "execute_result",
          "data": {
            "text/html": [
              "<div>\n",
              "<style scoped>\n",
              "    .dataframe tbody tr th:only-of-type {\n",
              "        vertical-align: middle;\n",
              "    }\n",
              "\n",
              "    .dataframe tbody tr th {\n",
              "        vertical-align: top;\n",
              "    }\n",
              "\n",
              "    .dataframe thead th {\n",
              "        text-align: right;\n",
              "    }\n",
              "</style>\n",
              "<table border=\"1\" class=\"dataframe\">\n",
              "  <thead>\n",
              "    <tr style=\"text-align: right;\">\n",
              "      <th></th>\n",
              "      <th>Tweets</th>\n",
              "      <th>Subjectivity</th>\n",
              "      <th>Polarity</th>\n",
              "      <th>Analysis</th>\n",
              "    </tr>\n",
              "  </thead>\n",
              "  <tbody>\n",
              "    <tr>\n",
              "      <th>0</th>\n",
              "      <td>Thank you so much to all of the countries who ...</td>\n",
              "      <td>0.367857</td>\n",
              "      <td>0.242857</td>\n",
              "      <td>Positive</td>\n",
              "    </tr>\n",
              "    <tr>\n",
              "      <th>1</th>\n",
              "      <td>can anyone sleep with hundreds of rockets fly...</td>\n",
              "      <td>0.000000</td>\n",
              "      <td>0.000000</td>\n",
              "      <td>Neutral</td>\n",
              "    </tr>\n",
              "    <tr>\n",
              "      <th>2</th>\n",
              "      <td>These aren’t fireworks over Ashdod. \\n\\nThey’r...</td>\n",
              "      <td>0.000000</td>\n",
              "      <td>0.000000</td>\n",
              "      <td>Neutral</td>\n",
              "    </tr>\n",
              "    <tr>\n",
              "      <th>3</th>\n",
              "      <td>⚠️⚠️Happening right now: rocket alarms soundin...</td>\n",
              "      <td>0.592857</td>\n",
              "      <td>0.105357</td>\n",
              "      <td>Positive</td>\n",
              "    </tr>\n",
              "    <tr>\n",
              "      <th>4</th>\n",
              "      <td>Shabbat is traditionally a day of rest, but fo...</td>\n",
              "      <td>0.316667</td>\n",
              "      <td>0.066667</td>\n",
              "      <td>Positive</td>\n",
              "    </tr>\n",
              "    <tr>\n",
              "      <th>...</th>\n",
              "      <td>...</td>\n",
              "      <td>...</td>\n",
              "      <td>...</td>\n",
              "      <td>...</td>\n",
              "    </tr>\n",
              "    <tr>\n",
              "      <th>95</th>\n",
              "      <td>: Israel's Equal Rights Commission for Persons...</td>\n",
              "      <td>0.125000</td>\n",
              "      <td>0.000000</td>\n",
              "      <td>Neutral</td>\n",
              "    </tr>\n",
              "    <tr>\n",
              "      <th>96</th>\n",
              "      <td>We stand together with our good friends in Ind...</td>\n",
              "      <td>0.600000</td>\n",
              "      <td>0.575000</td>\n",
              "      <td>Positive</td>\n",
              "    </tr>\n",
              "    <tr>\n",
              "      <th>97</th>\n",
              "      <td>Thank you ♥️</td>\n",
              "      <td>0.000000</td>\n",
              "      <td>0.000000</td>\n",
              "      <td>Neutral</td>\n",
              "    </tr>\n",
              "    <tr>\n",
              "      <th>98</th>\n",
              "      <td>We're reading all of these comments &amp;amp; send...</td>\n",
              "      <td>0.675000</td>\n",
              "      <td>0.566667</td>\n",
              "      <td>Positive</td>\n",
              "    </tr>\n",
              "    <tr>\n",
              "      <th>99</th>\n",
              "      <td>Thank you! We hope the whole world looks like...</td>\n",
              "      <td>0.400000</td>\n",
              "      <td>0.200000</td>\n",
              "      <td>Positive</td>\n",
              "    </tr>\n",
              "  </tbody>\n",
              "</table>\n",
              "<p>100 rows × 4 columns</p>\n",
              "</div>"
            ],
            "text/plain": [
              "                                               Tweets  ...  Analysis\n",
              "0   Thank you so much to all of the countries who ...  ...  Positive\n",
              "1    can anyone sleep with hundreds of rockets fly...  ...   Neutral\n",
              "2   These aren’t fireworks over Ashdod. \\n\\nThey’r...  ...   Neutral\n",
              "3   ⚠️⚠️Happening right now: rocket alarms soundin...  ...  Positive\n",
              "4   Shabbat is traditionally a day of rest, but fo...  ...  Positive\n",
              "..                                                ...  ...       ...\n",
              "95  : Israel's Equal Rights Commission for Persons...  ...   Neutral\n",
              "96  We stand together with our good friends in Ind...  ...  Positive\n",
              "97                                       Thank you ♥️  ...   Neutral\n",
              "98  We're reading all of these comments &amp; send...  ...  Positive\n",
              "99   Thank you! We hope the whole world looks like...  ...  Positive\n",
              "\n",
              "[100 rows x 4 columns]"
            ]
          },
          "metadata": {
            "tags": []
          },
          "execution_count": 54
        }
      ]
    },
    {
      "cell_type": "code",
      "metadata": {
        "colab": {
          "base_uri": "https://localhost:8080/",
          "height": 279
        },
        "id": "qTcWB6jL-T_A",
        "outputId": "eed69549-7a9c-4e2d-a957-0b502a46443d"
      },
      "source": [
        "# Word Cloud Visualization\n",
        "allwords= ' '.join([i for i in df['Tweets']])\n",
        "Cloud= WordCloud(width=500,height=300,random_state=0,max_font_size=100).generate(allwords)\n",
        "\n",
        "plt.imshow(Cloud)\n",
        "plt.show()"
      ],
      "execution_count": 55,
      "outputs": [
        {
          "output_type": "display_data",
          "data": {
            "image/png": "[encoded data removed]",
            "text/plain": [
              "<Figure size 432x288 with 1 Axes>"
            ]
          },
          "metadata": {
            "tags": []
          }
        }
      ]
    },
    {
      "cell_type": "code",
      "metadata": {
        "colab": {
          "base_uri": "https://localhost:8080/",
          "height": 402
        },
        "id": "kply0G_q-2ZC",
        "outputId": "af7e348d-e06c-434b-804d-f9f5662a4d00"
      },
      "source": [
        "# Create a function to compute negative neutral and positive\n",
        "\n",
        "def getAnalysis(score):\n",
        "    if score<0:\n",
        "        return 'Negative'\n",
        "    elif score==0:\n",
        "        return 'Neutral'\n",
        "    else:\n",
        "        return 'Positive'\n",
        "\n",
        "df['Analysis']= df['Polarity'].apply(getAnalysis)\n",
        "df"
      ],
      "execution_count": 47,
      "outputs": [
        {
          "output_type": "execute_result",
          "data": {
            "text/html": [
              "<div>\n",
              "<style scoped>\n",
              "    .dataframe tbody tr th:only-of-type {\n",
              "        vertical-align: middle;\n",
              "    }\n",
              "\n",
              "    .dataframe tbody tr th {\n",
              "        vertical-align: top;\n",
              "    }\n",
              "\n",
              "    .dataframe thead th {\n",
              "        text-align: right;\n",
              "    }\n",
              "</style>\n",
              "<table border=\"1\" class=\"dataframe\">\n",
              "  <thead>\n",
              "    <tr style=\"text-align: right;\">\n",
              "      <th></th>\n",
              "      <th>Tweets</th>\n",
              "      <th>Subjectivity</th>\n",
              "      <th>Polarity</th>\n",
              "      <th>Analysis</th>\n",
              "    </tr>\n",
              "  </thead>\n",
              "  <tbody>\n",
              "    <tr>\n",
              "      <th>0</th>\n",
              "      <td>Thank you so much to all of the countries who ...</td>\n",
              "      <td>0.367857</td>\n",
              "      <td>0.242857</td>\n",
              "      <td>Positive</td>\n",
              "    </tr>\n",
              "    <tr>\n",
              "      <th>1</th>\n",
              "      <td>can anyone sleep with hundreds of rockets fly...</td>\n",
              "      <td>0.000000</td>\n",
              "      <td>0.000000</td>\n",
              "      <td>Neutral</td>\n",
              "    </tr>\n",
              "    <tr>\n",
              "      <th>2</th>\n",
              "      <td>These aren’t fireworks over Ashdod. \\n\\nThey’r...</td>\n",
              "      <td>0.000000</td>\n",
              "      <td>0.000000</td>\n",
              "      <td>Neutral</td>\n",
              "    </tr>\n",
              "    <tr>\n",
              "      <th>3</th>\n",
              "      <td>⚠️⚠️Happening right now: rocket alarms soundin...</td>\n",
              "      <td>0.592857</td>\n",
              "      <td>0.105357</td>\n",
              "      <td>Positive</td>\n",
              "    </tr>\n",
              "    <tr>\n",
              "      <th>4</th>\n",
              "      <td>Shabbat is traditionally a day of rest, but fo...</td>\n",
              "      <td>0.316667</td>\n",
              "      <td>0.066667</td>\n",
              "      <td>Positive</td>\n",
              "    </tr>\n",
              "    <tr>\n",
              "      <th>...</th>\n",
              "      <td>...</td>\n",
              "      <td>...</td>\n",
              "      <td>...</td>\n",
              "      <td>...</td>\n",
              "    </tr>\n",
              "    <tr>\n",
              "      <th>95</th>\n",
              "      <td>: Israel's Equal Rights Commission for Persons...</td>\n",
              "      <td>0.125000</td>\n",
              "      <td>0.000000</td>\n",
              "      <td>Neutral</td>\n",
              "    </tr>\n",
              "    <tr>\n",
              "      <th>96</th>\n",
              "      <td>We stand together with our good friends in Ind...</td>\n",
              "      <td>0.600000</td>\n",
              "      <td>0.575000</td>\n",
              "      <td>Positive</td>\n",
              "    </tr>\n",
              "    <tr>\n",
              "      <th>97</th>\n",
              "      <td>Thank you ♥️</td>\n",
              "      <td>0.000000</td>\n",
              "      <td>0.000000</td>\n",
              "      <td>Neutral</td>\n",
              "    </tr>\n",
              "    <tr>\n",
              "      <th>98</th>\n",
              "      <td>We're reading all of these comments &amp;amp; send...</td>\n",
              "      <td>0.675000</td>\n",
              "      <td>0.566667</td>\n",
              "      <td>Positive</td>\n",
              "    </tr>\n",
              "    <tr>\n",
              "      <th>99</th>\n",
              "      <td>Thank you! We hope the whole world looks like...</td>\n",
              "      <td>0.400000</td>\n",
              "      <td>0.200000</td>\n",
              "      <td>Positive</td>\n",
              "    </tr>\n",
              "  </tbody>\n",
              "</table>\n",
              "<p>100 rows × 4 columns</p>\n",
              "</div>"
            ],
            "text/plain": [
              "                                               Tweets  ...  Analysis\n",
              "0   Thank you so much to all of the countries who ...  ...  Positive\n",
              "1    can anyone sleep with hundreds of rockets fly...  ...   Neutral\n",
              "2   These aren’t fireworks over Ashdod. \\n\\nThey’r...  ...   Neutral\n",
              "3   ⚠️⚠️Happening right now: rocket alarms soundin...  ...  Positive\n",
              "4   Shabbat is traditionally a day of rest, but fo...  ...  Positive\n",
              "..                                                ...  ...       ...\n",
              "95  : Israel's Equal Rights Commission for Persons...  ...   Neutral\n",
              "96  We stand together with our good friends in Ind...  ...  Positive\n",
              "97                                       Thank you ♥️  ...   Neutral\n",
              "98  We're reading all of these comments &amp; send...  ...  Positive\n",
              "99   Thank you! We hope the whole world looks like...  ...  Positive\n",
              "\n",
              "[100 rows x 4 columns]"
            ]
          },
          "metadata": {
            "tags": []
          },
          "execution_count": 47
        }
      ]
    },
    {
      "cell_type": "code",
      "metadata": {
        "colab": {
          "base_uri": "https://localhost:8080/",
          "height": 1000
        },
        "id": "0KQDovfb-3-D",
        "outputId": "038d2210-11ed-4e35-f36f-321514e4de62"
      },
      "source": [
        "df[df['Analysis']=='Neutral']"
      ],
      "execution_count": 56,
      "outputs": [
        {
          "output_type": "execute_result",
          "data": {
            "text/html": [
              "<div>\n",
              "<style scoped>\n",
              "    .dataframe tbody tr th:only-of-type {\n",
              "        vertical-align: middle;\n",
              "    }\n",
              "\n",
              "    .dataframe tbody tr th {\n",
              "        vertical-align: top;\n",
              "    }\n",
              "\n",
              "    .dataframe thead th {\n",
              "        text-align: right;\n",
              "    }\n",
              "</style>\n",
              "<table border=\"1\" class=\"dataframe\">\n",
              "  <thead>\n",
              "    <tr style=\"text-align: right;\">\n",
              "      <th></th>\n",
              "      <th>Tweets</th>\n",
              "      <th>Subjectivity</th>\n",
              "      <th>Polarity</th>\n",
              "      <th>Analysis</th>\n",
              "    </tr>\n",
              "  </thead>\n",
              "  <tbody>\n",
              "    <tr>\n",
              "      <th>1</th>\n",
              "      <td>can anyone sleep with hundreds of rockets fly...</td>\n",
              "      <td>0.000</td>\n",
              "      <td>0.0</td>\n",
              "      <td>Neutral</td>\n",
              "    </tr>\n",
              "    <tr>\n",
              "      <th>2</th>\n",
              "      <td>These aren’t fireworks over Ashdod. \\n\\nThey’r...</td>\n",
              "      <td>0.000</td>\n",
              "      <td>0.0</td>\n",
              "      <td>Neutral</td>\n",
              "    </tr>\n",
              "    <tr>\n",
              "      <th>5</th>\n",
              "      <td>:</td>\n",
              "      <td>0.000</td>\n",
              "      <td>0.0</td>\n",
              "      <td>Neutral</td>\n",
              "    </tr>\n",
              "    <tr>\n",
              "      <th>9</th>\n",
              "      <td>__ Thank you!</td>\n",
              "      <td>0.000</td>\n",
              "      <td>0.0</td>\n",
              "      <td>Neutral</td>\n",
              "    </tr>\n",
              "    <tr>\n",
              "      <th>10</th>\n",
              "      <td>: Taking part in a  event on the  channel, to ...</td>\n",
              "      <td>0.400</td>\n",
              "      <td>0.0</td>\n",
              "      <td>Neutral</td>\n",
              "    </tr>\n",
              "    <tr>\n",
              "      <th>12</th>\n",
              "      <td>_Today Thank you ❤️</td>\n",
              "      <td>0.000</td>\n",
              "      <td>0.0</td>\n",
              "      <td>Neutral</td>\n",
              "    </tr>\n",
              "    <tr>\n",
              "      <th>13</th>\n",
              "      <td>❤️</td>\n",
              "      <td>0.000</td>\n",
              "      <td>0.0</td>\n",
              "      <td>Neutral</td>\n",
              "    </tr>\n",
              "    <tr>\n",
              "      <th>18</th>\n",
              "      <td>An honor to host over 1,600 people on our , to...</td>\n",
              "      <td>0.000</td>\n",
              "      <td>0.0</td>\n",
              "      <td>Neutral</td>\n",
              "    </tr>\n",
              "    <tr>\n",
              "      <th>20</th>\n",
              "      <td>It will be in English.</td>\n",
              "      <td>0.000</td>\n",
              "      <td>0.0</td>\n",
              "      <td>Neutral</td>\n",
              "    </tr>\n",
              "    <tr>\n",
              "      <th>21</th>\n",
              "      <td>In ten minutes (20:00pm Israel time) we’ll be ...</td>\n",
              "      <td>0.000</td>\n",
              "      <td>0.0</td>\n",
              "      <td>Neutral</td>\n",
              "    </tr>\n",
              "    <tr>\n",
              "      <th>24</th>\n",
              "      <td>💔</td>\n",
              "      <td>0.000</td>\n",
              "      <td>0.0</td>\n",
              "      <td>Neutral</td>\n",
              "    </tr>\n",
              "    <tr>\n",
              "      <th>25</th>\n",
              "      <td>No words needed. \\n\\nIsraelUnderAttack</td>\n",
              "      <td>0.000</td>\n",
              "      <td>0.0</td>\n",
              "      <td>Neutral</td>\n",
              "    </tr>\n",
              "    <tr>\n",
              "      <th>28</th>\n",
              "      <td>Dankeschön\\nThank You\\nתודה רבה</td>\n",
              "      <td>0.000</td>\n",
              "      <td>0.0</td>\n",
              "      <td>Neutral</td>\n",
              "    </tr>\n",
              "    <tr>\n",
              "      <th>29</th>\n",
              "      <td>We ♥️ you .</td>\n",
              "      <td>0.000</td>\n",
              "      <td>0.0</td>\n",
              "      <td>Neutral</td>\n",
              "    </tr>\n",
              "    <tr>\n",
              "      <th>30</th>\n",
              "      <td>10 minutes to go.</td>\n",
              "      <td>0.000</td>\n",
              "      <td>0.0</td>\n",
              "      <td>Neutral</td>\n",
              "    </tr>\n",
              "    <tr>\n",
              "      <th>31</th>\n",
              "      <td>As rockets bombard communities across Israel a...</td>\n",
              "      <td>0.000</td>\n",
              "      <td>0.0</td>\n",
              "      <td>Neutral</td>\n",
              "    </tr>\n",
              "    <tr>\n",
              "      <th>34</th>\n",
              "      <td>We have been here for 3,000 years and we're he...</td>\n",
              "      <td>0.000</td>\n",
              "      <td>0.0</td>\n",
              "      <td>Neutral</td>\n",
              "    </tr>\n",
              "    <tr>\n",
              "      <th>36</th>\n",
              "      <td>מלכה ♥️.</td>\n",
              "      <td>0.000</td>\n",
              "      <td>0.0</td>\n",
              "      <td>Neutral</td>\n",
              "    </tr>\n",
              "    <tr>\n",
              "      <th>41</th>\n",
              "      <td>Happening in 10 minutes. We hope you join us.</td>\n",
              "      <td>0.000</td>\n",
              "      <td>0.0</td>\n",
              "      <td>Neutral</td>\n",
              "    </tr>\n",
              "    <tr>\n",
              "      <th>42</th>\n",
              "      <td>Join us on  at 16:00PM (Israel time), 9AM EST ...</td>\n",
              "      <td>0.000</td>\n",
              "      <td>0.0</td>\n",
              "      <td>Neutral</td>\n",
              "    </tr>\n",
              "    <tr>\n",
              "      <th>43</th>\n",
              "      <td>📸Photography by Naftali</td>\n",
              "      <td>0.000</td>\n",
              "      <td>0.0</td>\n",
              "      <td>Neutral</td>\n",
              "    </tr>\n",
              "    <tr>\n",
              "      <th>47</th>\n",
              "      <td>: Sapir Berman is the 1st referee from the Pre...</td>\n",
              "      <td>0.000</td>\n",
              "      <td>0.0</td>\n",
              "      <td>Neutral</td>\n",
              "    </tr>\n",
              "    <tr>\n",
              "      <th>56</th>\n",
              "      <td>YUM! Can you send some over via diplomatic ma...</td>\n",
              "      <td>0.000</td>\n",
              "      <td>0.0</td>\n",
              "      <td>Neutral</td>\n",
              "    </tr>\n",
              "    <tr>\n",
              "      <th>58</th>\n",
              "      <td>May the memories of the victims of the Mount M...</td>\n",
              "      <td>0.000</td>\n",
              "      <td>0.0</td>\n",
              "      <td>Neutral</td>\n",
              "    </tr>\n",
              "    <tr>\n",
              "      <th>60</th>\n",
              "      <td>📷/Igal Slavin</td>\n",
              "      <td>0.000</td>\n",
              "      <td>0.0</td>\n",
              "      <td>Neutral</td>\n",
              "    </tr>\n",
              "    <tr>\n",
              "      <th>64</th>\n",
              "      <td>IsraelStandsWithIndia 🇮🇱❤️🇮🇳\\n\\n👇</td>\n",
              "      <td>0.000</td>\n",
              "      <td>0.0</td>\n",
              "      <td>Neutral</td>\n",
              "    </tr>\n",
              "    <tr>\n",
              "      <th>66</th>\n",
              "      <td>You got it!</td>\n",
              "      <td>0.000</td>\n",
              "      <td>0.0</td>\n",
              "      <td>Neutral</td>\n",
              "    </tr>\n",
              "    <tr>\n",
              "      <th>67</th>\n",
              "      <td>We take it you didn't like our song choices.</td>\n",
              "      <td>0.000</td>\n",
              "      <td>0.0</td>\n",
              "      <td>Neutral</td>\n",
              "    </tr>\n",
              "    <tr>\n",
              "      <th>68</th>\n",
              "      <td>You guys are KILLING it! Keep the suggestions ...</td>\n",
              "      <td>0.000</td>\n",
              "      <td>0.0</td>\n",
              "      <td>Neutral</td>\n",
              "    </tr>\n",
              "    <tr>\n",
              "      <th>69</th>\n",
              "      <td>FYI we are actually adding these songs to our ...</td>\n",
              "      <td>0.100</td>\n",
              "      <td>0.0</td>\n",
              "      <td>Neutral</td>\n",
              "    </tr>\n",
              "    <tr>\n",
              "      <th>70</th>\n",
              "      <td>What songs should we add to our playlist 🎵🎧? \\...</td>\n",
              "      <td>0.000</td>\n",
              "      <td>0.0</td>\n",
              "      <td>Neutral</td>\n",
              "    </tr>\n",
              "    <tr>\n",
              "      <th>72</th>\n",
              "      <td>: Israel has committed to close all coal plant...</td>\n",
              "      <td>0.000</td>\n",
              "      <td>0.0</td>\n",
              "      <td>Neutral</td>\n",
              "    </tr>\n",
              "    <tr>\n",
              "      <th>78</th>\n",
              "      <td>Users on Twitter: Google Maps vs Apple Maps? \\...</td>\n",
              "      <td>0.000</td>\n",
              "      <td>0.0</td>\n",
              "      <td>Neutral</td>\n",
              "    </tr>\n",
              "    <tr>\n",
              "      <th>82</th>\n",
              "      <td>This is the collab we’ve all been waiting for!...</td>\n",
              "      <td>0.000</td>\n",
              "      <td>0.0</td>\n",
              "      <td>Neutral</td>\n",
              "    </tr>\n",
              "    <tr>\n",
              "      <th>86</th>\n",
              "      <td>We only have one earth. It's our job to protec...</td>\n",
              "      <td>1.000</td>\n",
              "      <td>0.0</td>\n",
              "      <td>Neutral</td>\n",
              "    </tr>\n",
              "    <tr>\n",
              "      <th>89</th>\n",
              "      <td>EarthDay2021 is just around the corner, but EV...</td>\n",
              "      <td>0.000</td>\n",
              "      <td>0.0</td>\n",
              "      <td>Neutral</td>\n",
              "    </tr>\n",
              "    <tr>\n",
              "      <th>90</th>\n",
              "      <td>♥️</td>\n",
              "      <td>0.000</td>\n",
              "      <td>0.0</td>\n",
              "      <td>Neutral</td>\n",
              "    </tr>\n",
              "    <tr>\n",
              "      <th>94</th>\n",
              "      <td>בואיייי</td>\n",
              "      <td>0.000</td>\n",
              "      <td>0.0</td>\n",
              "      <td>Neutral</td>\n",
              "    </tr>\n",
              "    <tr>\n",
              "      <th>95</th>\n",
              "      <td>: Israel's Equal Rights Commission for Persons...</td>\n",
              "      <td>0.125</td>\n",
              "      <td>0.0</td>\n",
              "      <td>Neutral</td>\n",
              "    </tr>\n",
              "    <tr>\n",
              "      <th>97</th>\n",
              "      <td>Thank you ♥️</td>\n",
              "      <td>0.000</td>\n",
              "      <td>0.0</td>\n",
              "      <td>Neutral</td>\n",
              "    </tr>\n",
              "  </tbody>\n",
              "</table>\n",
              "</div>"
            ],
            "text/plain": [
              "                                               Tweets  ...  Analysis\n",
              "1    can anyone sleep with hundreds of rockets fly...  ...   Neutral\n",
              "2   These aren’t fireworks over Ashdod. \\n\\nThey’r...  ...   Neutral\n",
              "5                                                  :   ...   Neutral\n",
              "9                                       __ Thank you!  ...   Neutral\n",
              "10  : Taking part in a  event on the  channel, to ...  ...   Neutral\n",
              "12                                _Today Thank you ❤️  ...   Neutral\n",
              "13                                                 ❤️  ...   Neutral\n",
              "18  An honor to host over 1,600 people on our , to...  ...   Neutral\n",
              "20                             It will be in English.  ...   Neutral\n",
              "21  In ten minutes (20:00pm Israel time) we’ll be ...  ...   Neutral\n",
              "24                                                 💔   ...   Neutral\n",
              "25            No words needed. \\n\\nIsraelUnderAttack   ...   Neutral\n",
              "28                    Dankeschön\\nThank You\\nתודה רבה  ...   Neutral\n",
              "29                                       We ♥️ you .   ...   Neutral\n",
              "30                                 10 minutes to go.   ...   Neutral\n",
              "31  As rockets bombard communities across Israel a...  ...   Neutral\n",
              "34  We have been here for 3,000 years and we're he...  ...   Neutral\n",
              "36                                           מלכה ♥️.  ...   Neutral\n",
              "41     Happening in 10 minutes. We hope you join us.   ...   Neutral\n",
              "42  Join us on  at 16:00PM (Israel time), 9AM EST ...  ...   Neutral\n",
              "43                            📸Photography by Naftali  ...   Neutral\n",
              "47  : Sapir Berman is the 1st referee from the Pre...  ...   Neutral\n",
              "56   YUM! Can you send some over via diplomatic ma...  ...   Neutral\n",
              "58  May the memories of the victims of the Mount M...  ...   Neutral\n",
              "60                                      📷/Igal Slavin  ...   Neutral\n",
              "64                 IsraelStandsWithIndia 🇮🇱❤️🇮🇳\\n\\n👇   ...   Neutral\n",
              "66                                        You got it!  ...   Neutral\n",
              "67       We take it you didn't like our song choices.  ...   Neutral\n",
              "68  You guys are KILLING it! Keep the suggestions ...  ...   Neutral\n",
              "69  FYI we are actually adding these songs to our ...  ...   Neutral\n",
              "70  What songs should we add to our playlist 🎵🎧? \\...  ...   Neutral\n",
              "72  : Israel has committed to close all coal plant...  ...   Neutral\n",
              "78  Users on Twitter: Google Maps vs Apple Maps? \\...  ...   Neutral\n",
              "82  This is the collab we’ve all been waiting for!...  ...   Neutral\n",
              "86  We only have one earth. It's our job to protec...  ...   Neutral\n",
              "89  EarthDay2021 is just around the corner, but EV...  ...   Neutral\n",
              "90                                                 ♥️  ...   Neutral\n",
              "94                                            בואיייי  ...   Neutral\n",
              "95  : Israel's Equal Rights Commission for Persons...  ...   Neutral\n",
              "97                                       Thank you ♥️  ...   Neutral\n",
              "\n",
              "[40 rows x 4 columns]"
            ]
          },
          "metadata": {
            "tags": []
          },
          "execution_count": 56
        }
      ]
    },
    {
      "cell_type": "code",
      "metadata": {
        "colab": {
          "base_uri": "https://localhost:8080/"
        },
        "id": "e_OMcTtk_Ar8",
        "outputId": "950a870e-0d16-415e-ad4f-7dfb94d082e8"
      },
      "source": [
        "df['Analysis'].value_counts()"
      ],
      "execution_count": 57,
      "outputs": [
        {
          "output_type": "execute_result",
          "data": {
            "text/plain": [
              "Positive    49\n",
              "Neutral     40\n",
              "Negative    11\n",
              "Name: Analysis, dtype: int64"
            ]
          },
          "metadata": {
            "tags": []
          },
          "execution_count": 57
        }
      ]
    },
    {
      "cell_type": "code",
      "metadata": {
        "colab": {
          "base_uri": "https://localhost:8080/"
        },
        "id": "6E2hqeTa_7eH",
        "outputId": "73c8f23b-fe1d-4228-ed37-c8478dc645de"
      },
      "source": [
        "df.shape"
      ],
      "execution_count": 58,
      "outputs": [
        {
          "output_type": "execute_result",
          "data": {
            "text/plain": [
              "(100, 4)"
            ]
          },
          "metadata": {
            "tags": []
          },
          "execution_count": 58
        }
      ]
    },
    {
      "cell_type": "code",
      "metadata": {
        "colab": {
          "base_uri": "https://localhost:8080/",
          "height": 441
        },
        "id": "yDp12hvAAFr7",
        "outputId": "13020999-9bf9-4d73-ee35-f76860510308"
      },
      "source": [
        "# plotting scatter plot\n",
        "plt.figure(figsize=(8,6))\n",
        "for i in range(0,df.shape[0]):\n",
        "    plt.scatter(df['Polarity'][i],df['Subjectivity'][i],color='Blue')\n",
        "    \n",
        "plt.title(\"Sentiment Analysis\")\n",
        "plt.xlim(-1,1)\n",
        "plt.xlabel('Polarity')\n",
        "plt.ylabel('Subjectivity')\n",
        "plt.show()"
      ],
      "execution_count": 59,
      "outputs": [
        {
          "output_type": "display_data",
          "data": {
            "image/png": "[encoded data removed]",
            "text/plain": [
              "<Figure size 576x432 with 1 Axes>"
            ]
          },
          "metadata": {
            "tags": []
          }
        }
      ]
    },
    {
      "cell_type": "code",
      "metadata": {
        "colab": {
          "base_uri": "https://localhost:8080/",
          "height": 374
        },
        "id": "01qN6oJ-ATBw",
        "outputId": "ec0b9c2c-a22b-4ffc-d63b-79a0efdfee56"
      },
      "source": [
        "\n",
        "df['Analysis'].value_counts().plot(kind='bar')\n",
        "plt.title(\"Sentiment Analysis\")\n",
        "plt.xlabel('Polarity')\n",
        "plt.ylabel('Count')\n",
        "plt.show()"
      ],
      "execution_count": 60,
      "outputs": [
        {
          "output_type": "display_data",
          "data": {
            "image/png": "[encoded data removed]",
            "text/plain": [
              "<Figure size 432x288 with 1 Axes>"
            ]
          },
          "metadata": {
            "tags": []
          }
        }
      ]
    }
  ]
}